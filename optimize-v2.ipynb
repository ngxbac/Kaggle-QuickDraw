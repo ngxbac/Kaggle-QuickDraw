{
 "cells": [
  {
   "cell_type": "code",
   "execution_count": 1,
   "metadata": {},
   "outputs": [
    {
     "name": "stderr",
     "output_type": "stream",
     "text": [
      "Using TensorFlow backend.\n"
     ]
    },
    {
     "data": {
      "text/plain": [
       "['/device:GPU:0']"
      ]
     },
     "execution_count": 1,
     "metadata": {},
     "output_type": "execute_result"
    }
   ],
   "source": [
    "%matplotlib inline\n",
    "import os\n",
    "import numpy as np\n",
    "import matplotlib.pyplot as plt\n",
    "from keras.utils.np_utils import to_categorical\n",
    "from keras.preprocessing.sequence import pad_sequences\n",
    "from sklearn.preprocessing import LabelEncoder\n",
    "import pandas as pd\n",
    "from keras.metrics import top_k_categorical_accuracy\n",
    "def top_3_accuracy(x,y): return top_k_categorical_accuracy(x,y, 3)\n",
    "from keras.callbacks import ModelCheckpoint, LearningRateScheduler, EarlyStopping, ReduceLROnPlateau\n",
    "from glob import glob\n",
    "import gc\n",
    "from tqdm import tqdm\n",
    "gc.enable()\n",
    "def get_available_gpus():\n",
    "    from tensorflow.python.client import device_lib\n",
    "    local_device_protos = device_lib.list_local_devices()\n",
    "    return [x.name for x in local_device_protos if x.device_type == 'GPU']\n",
    "\n",
    "get_available_gpus()"
   ]
  },
  {
   "cell_type": "code",
   "execution_count": 2,
   "metadata": {},
   "outputs": [
    {
     "data": {
      "text/plain": [
       "LabelEncoder()"
      ]
     },
     "execution_count": 2,
     "metadata": {},
     "output_type": "execute_result"
    }
   ],
   "source": [
    "CLASS_NAME=\\\n",
    "['The_Eiffel_Tower', 'The_Great_Wall_of_China', 'The_Mona_Lisa', 'airplane', 'alarm_clock', 'ambulance', 'angel',\n",
    " 'animal_migration', 'ant', 'anvil', 'apple', 'arm', 'asparagus', 'axe', 'backpack', 'banana', 'bandage', 'barn',\n",
    " 'baseball', 'baseball_bat', 'basket', 'basketball', 'bat', 'bathtub', 'beach', 'bear', 'beard', 'bed', 'bee',\n",
    " 'belt', 'bench', 'bicycle', 'binoculars', 'bird', 'birthday_cake', 'blackberry', 'blueberry', 'book',\n",
    " 'boomerang', 'bottlecap', 'bowtie', 'bracelet', 'brain', 'bread', 'bridge', 'broccoli', 'broom',\n",
    " 'bucket', 'bulldozer', 'bus', 'bush', 'butterfly', 'cactus', 'cake', 'calculator', 'calendar', 'camel',\n",
    " 'camera', 'camouflage', 'campfire', 'candle', 'cannon', 'canoe', 'car', 'carrot', 'castle', 'cat', 'ceiling_fan',\n",
    " 'cell_phone', 'cello', 'chair', 'chandelier', 'church', 'circle', 'clarinet', 'clock', 'cloud', 'coffee_cup',\n",
    " 'compass', 'computer', 'cookie', 'cooler', 'couch', 'cow', 'crab', 'crayon', 'crocodile', 'crown', 'cruise_ship',\n",
    " 'cup', 'diamond', 'dishwasher', 'diving_board', 'dog', 'dolphin', 'donut', 'door', 'dragon', 'dresser',\n",
    " 'drill', 'drums', 'duck', 'dumbbell', 'ear', 'elbow', 'elephant', 'envelope', 'eraser', 'eye', 'eyeglasses',\n",
    " 'face', 'fan', 'feather', 'fence', 'finger', 'fire_hydrant', 'fireplace', 'firetruck', 'fish', 'flamingo',\n",
    " 'flashlight', 'flip_flops', 'floor_lamp', 'flower', 'flying_saucer', 'foot', 'fork', 'frog', 'frying_pan',\n",
    " 'garden', 'garden_hose', 'giraffe', 'goatee', 'golf_club', 'grapes', 'grass', 'guitar', 'hamburger',\n",
    " 'hammer', 'hand', 'harp', 'hat', 'headphones', 'hedgehog', 'helicopter', 'helmet', 'hexagon', 'hockey_puck',\n",
    " 'hockey_stick', 'horse', 'hospital', 'hot_air_balloon', 'hot_dog', 'hot_tub', 'hourglass', 'house', 'house_plant',\n",
    " 'hurricane', 'ice_cream', 'jacket', 'jail', 'kangaroo', 'key', 'keyboard', 'knee', 'ladder', 'lantern', 'laptop',\n",
    " 'leaf', 'leg', 'light_bulb', 'lighthouse', 'lightning', 'line', 'lion', 'lipstick', 'lobster', 'lollipop', 'mailbox',\n",
    " 'map', 'marker', 'matches', 'megaphone', 'mermaid', 'microphone', 'microwave', 'monkey', 'moon', 'mosquito',\n",
    " 'motorbike', 'mountain', 'mouse', 'moustache', 'mouth', 'mug', 'mushroom', 'nail', 'necklace', 'nose', 'ocean',\n",
    " 'octagon', 'octopus', 'onion', 'oven', 'owl', 'paint_can', 'paintbrush', 'palm_tree', 'panda', 'pants',\n",
    " 'paper_clip', 'parachute', 'parrot', 'passport', 'peanut', 'pear', 'peas', 'pencil', 'penguin', 'piano',\n",
    " 'pickup_truck', 'picture_frame', 'pig', 'pillow', 'pineapple', 'pizza', 'pliers', 'police_car', 'pond',\n",
    " 'pool', 'popsicle', 'postcard', 'potato', 'power_outlet', 'purse', 'rabbit', 'raccoon', 'radio', 'rain',\n",
    " 'rainbow', 'rake', 'remote_control', 'rhinoceros', 'river', 'roller_coaster', 'rollerskates', 'sailboat',\n",
    " 'sandwich', 'saw', 'saxophone', 'school_bus', 'scissors', 'scorpion', 'screwdriver', 'sea_turtle', 'see_saw',\n",
    " 'shark', 'sheep', 'shoe', 'shorts', 'shovel', 'sink', 'skateboard', 'skull', 'skyscraper', 'sleeping_bag',\n",
    " 'smiley_face', 'snail', 'snake', 'snorkel', 'snowflake', 'snowman', 'soccer_ball', 'sock', 'speedboat',\n",
    " 'spider', 'spoon', 'spreadsheet', 'square', 'squiggle', 'squirrel', 'stairs', 'star', 'steak', 'stereo',\n",
    " 'stethoscope', 'stitches', 'stop_sign', 'stove', 'strawberry', 'streetlight', 'string_bean', 'submarine',\n",
    " 'suitcase', 'sun', 'swan', 'sweater', 'swing_set', 'sword', 't-shirt', 'table', 'teapot', 'teddy-bear',\n",
    " 'telephone', 'television', 'tennis_racquet', 'tent', 'tiger', 'toaster', 'toe', 'toilet', 'tooth',\n",
    " 'toothbrush', 'toothpaste', 'tornado', 'tractor', 'traffic_light', 'train', 'tree', 'triangle',\n",
    " 'trombone', 'truck', 'trumpet', 'umbrella', 'underwear', 'van', 'vase', 'violin', 'washing_machine',\n",
    " 'watermelon', 'waterslide', 'whale', 'wheel', 'windmill', 'wine_bottle', 'wine_glass', 'wristwatch',\n",
    " 'yoga', 'zebra', 'zigzag']\n",
    "\n",
    "word_encoder = LabelEncoder()\n",
    "word_encoder.fit(CLASS_NAME)"
   ]
  },
  {
   "cell_type": "code",
   "execution_count": 3,
   "metadata": {},
   "outputs": [],
   "source": [
    "def softmax(X, theta=1.0, axis=None):\n",
    "    \"\"\"\n",
    "    Compute the softmax of each element along an axis of X.\n",
    "\n",
    "    Parameters\n",
    "    ----------\n",
    "    X: ND-Array. Probably should be floats.\n",
    "    theta (optional): float parameter, used as a multiplier\n",
    "        prior to exponentiation. Default = 1.0\n",
    "    axis (optional): axis to compute values along. Default is the\n",
    "        first non-singleton axis.\n",
    "\n",
    "    Returns an array the same size as X. The result will sum to 1\n",
    "    along the specified axis.\n",
    "    \"\"\"\n",
    "\n",
    "    # make X at least 2d\n",
    "    y = np.atleast_2d(X)\n",
    "\n",
    "    # find axis\n",
    "    if axis is None:\n",
    "        axis = next(j[0] for j in enumerate(y.shape) if j[1] > 1)\n",
    "\n",
    "    # multiply y against the theta parameter,\n",
    "    y = y * float(theta)\n",
    "\n",
    "    # subtract the max for numerical stability\n",
    "    y = y - np.expand_dims(np.max(y, axis=axis), axis)\n",
    "\n",
    "    # exponentiate y\n",
    "    y = np.exp(y)\n",
    "\n",
    "    # take the sum along the specified axis\n",
    "    ax_sum = np.expand_dims(np.sum(y, axis=axis), axis)\n",
    "\n",
    "    # finally: divide elementwise\n",
    "    p = y / ax_sum\n",
    "\n",
    "    # flatten if X was 1D\n",
    "    if len(X.shape) == 1: p = p.flatten()\n",
    "\n",
    "    return p"
   ]
  },
  {
   "cell_type": "code",
   "execution_count": 4,
   "metadata": {},
   "outputs": [],
   "source": [
    "log_dir = \"./predict_numpy/\"\n",
    "logits_resnet34 = []\n",
    "for best in [3, 4, 5, 6, 7]:\n",
    "    logit = np.load(f\"{log_dir}/resnet34_embedding_30k/dataset.predictions.infer.logits.satge1.{best}.npy\")\n",
    "    logit = softmax(logit, axis=1)\n",
    "    logits_resnet34.append(logit)\n",
    "logits_resnet34 = np.asarray(logits_resnet34)\n",
    "logits_resnet34 = np.mean(logits_resnet34, axis=0)\n",
    "\n",
    "logits_resnext = np.load(f\"{log_dir}/phuong/resnext.npy\")\n",
    "\n",
    "logits_seresnet = []\n",
    "for best in [1,2,3,4]:\n",
    "    logit = np.load(f\"{log_dir}/se_resnet50_full_30k/dataset.predictions.infer.logits.satge1.{best}.npy\")\n",
    "    logit = softmax(logit, axis=1)\n",
    "    logits_seresnet.append(logit)\n",
    "logits_seresnet = np.asarray(logits_seresnet)\n",
    "logits_seresnet = np.mean(logits_seresnet, axis=0)\n",
    "\n",
    "logits_seresnet_aphuong = np.load(f\"{log_dir}/phuong/se_resnet_50.npy\")\n",
    "\n",
    "logits_resnet34_full = []\n",
    "for best in [1,2,3,4,5]:\n",
    "    logit = np.load(f\"{log_dir}/fusion_50k_imgsize64/dataset.predictions.infer.logits.satge1.{best}.npy\")\n",
    "    logit = softmax(logit, axis=1)\n",
    "    logits_resnet34_full.append(logit)\n",
    "logits_resnet34_full = np.asarray(logits_resnet34_full)\n",
    "logits_resnet34_full = np.mean(logits_resnet34_full, axis=0)\n",
    "\n",
    "\n",
    "pred = (logits_resnet34_full + logits_resnext + logits_seresnet + logits_seresnet_aphuong) / 4\n",
    "# pred = (pred + logits_resnet34_full) / 2"
   ]
  },
  {
   "cell_type": "code",
   "execution_count": 5,
   "metadata": {},
   "outputs": [
    {
     "data": {
      "text/plain": [
       "(112199, 340)"
      ]
     },
     "execution_count": 5,
     "metadata": {},
     "output_type": "execute_result"
    }
   ],
   "source": [
    "pred.shape"
   ]
  },
  {
   "cell_type": "code",
   "execution_count": 6,
   "metadata": {},
   "outputs": [
    {
     "data": {
      "text/plain": [
       "array([[0, 1, 2],\n",
       "       [1, 2, 0],\n",
       "       [2, 1, 2],\n",
       "       [3, 2, 0]])"
      ]
     },
     "execution_count": 6,
     "metadata": {},
     "output_type": "execute_result"
    }
   ],
   "source": [
    "A = np.array([[0, 1, 2], [0, 2, 0]])\n",
    "X = np.array([[0, 1, 2], [1, 2, 0], [2, 1, 2], [3, 2, 0]])\n",
    "X"
   ]
  },
  {
   "cell_type": "code",
   "execution_count": 7,
   "metadata": {},
   "outputs": [
    {
     "data": {
      "text/plain": [
       "array([[0., 1., 2.],\n",
       "       [1., 2., 0.],\n",
       "       [2., 1., 2.],\n",
       "       [3., 2., 0.],\n",
       "       [0., 0., 0.]])"
      ]
     },
     "execution_count": 7,
     "metadata": {},
     "output_type": "execute_result"
    }
   ],
   "source": [
    "newrow = np.zeros(3) #[1,2,3]\n",
    "np.vstack([X, newrow])"
   ]
  },
  {
   "cell_type": "code",
   "execution_count": 8,
   "metadata": {},
   "outputs": [
    {
     "data": {
      "text/plain": [
       "(112200, 340)"
      ]
     },
     "execution_count": 8,
     "metadata": {},
     "output_type": "execute_result"
    }
   ],
   "source": [
    "pred_340 = np.vstack([pred, np.zeros(340)])\n",
    "pred_340.shape"
   ]
  },
  {
   "cell_type": "code",
   "execution_count": 9,
   "metadata": {},
   "outputs": [],
   "source": [
    "pred_340 *= 1000000000"
   ]
  },
  {
   "cell_type": "code",
   "execution_count": 10,
   "metadata": {},
   "outputs": [
    {
     "data": {
      "text/plain": [
       "array([[        4,         8,         1, ...,       148,         5,\n",
       "               20],\n",
       "       [      224,     10188,       178, ...,      3100,        83,\n",
       "              120],\n",
       "       [     8656, 943073272,       148, ...,       236,       169,\n",
       "             2471],\n",
       "       ...,\n",
       "       [       31,        60,       280, ...,        57,        41,\n",
       "               94],\n",
       "       [      617,      1064,       765, ...,       496,       504,\n",
       "              792],\n",
       "       [        0,         0,         0, ...,         0,         0,\n",
       "                0]])"
      ]
     },
     "execution_count": 10,
     "metadata": {},
     "output_type": "execute_result"
    }
   ],
   "source": [
    "pred_340 = pred_340.astype(np.int64)\n",
    "pred_340\n"
   ]
  },
  {
   "cell_type": "code",
   "execution_count": 11,
   "metadata": {},
   "outputs": [
    {
     "data": {
      "text/plain": [
       "array(['The_Eiffel_Tower', 'The_Great_Wall_of_China', 'The_Mona_Lisa'],\n",
       "      dtype='<U23')"
      ]
     },
     "execution_count": 11,
     "metadata": {},
     "output_type": "execute_result"
    }
   ],
   "source": [
    "word_encoder.classes_[:3]"
   ]
  },
  {
   "cell_type": "code",
   "execution_count": 12,
   "metadata": {},
   "outputs": [
    {
     "name": "stdout",
     "output_type": "stream",
     "text": [
      "112200\n"
     ]
    },
    {
     "data": {
      "text/plain": [
       "array([237, 147,   1, ...,  42,  70, 214], dtype=int32)"
      ]
     },
     "execution_count": 12,
     "metadata": {},
     "output_type": "execute_result"
    }
   ],
   "source": [
    "from ortools.graph import pywrapgraph\n",
    "def mcf_balance(pred_340):\n",
    "    m = pred_340.astype(np.int64)\n",
    "    size = pred_340.shape[0]\n",
    "    print(size)\n",
    "    mcf = pywrapgraph.SimpleMinCostFlow()\n",
    "    for j in range(340):\n",
    "        mcf.SetNodeSupply(j+size, size//340)\n",
    "    for i in range(size):\n",
    "        mcf.SetNodeSupply(i, -1)\n",
    "        for j in range(340):\n",
    "            mcf.AddArcWithCapacityAndUnitCost(j+size, i, 1, int(-m[i][j]))\n",
    "    mcf.SolveMaxFlowWithMinCost()\n",
    "\n",
    "    answ = np.zeros(size, dtype=np.int32)\n",
    "    for i in range(mcf.NumArcs()):\n",
    "        if mcf.Flow(i) > 0:\n",
    "            answ[mcf.Head(i)] = mcf.Tail(i) - size\n",
    "    return answ\n",
    "\n",
    "rs = mcf_balance(pred_340)\n",
    "rs"
   ]
  },
  {
   "cell_type": "code",
   "execution_count": 13,
   "metadata": {},
   "outputs": [],
   "source": [
    "opt_pred = word_encoder.classes_[rs]"
   ]
  },
  {
   "cell_type": "code",
   "execution_count": 14,
   "metadata": {},
   "outputs": [],
   "source": [
    "# Top2: remove the first assignments (top1) and run the optimization module again"
   ]
  },
  {
   "cell_type": "code",
   "execution_count": 15,
   "metadata": {},
   "outputs": [
    {
     "name": "stdout",
     "output_type": "stream",
     "text": [
      "112200\n"
     ]
    },
    {
     "data": {
      "text/plain": [
       "array([284,  39,  65, ...,  50, 310, 173], dtype=int32)"
      ]
     },
     "execution_count": 15,
     "metadata": {},
     "output_type": "execute_result"
    }
   ],
   "source": [
    "for idx, j in enumerate(rs):\n",
    "    pred_340[idx, j] = 0\n",
    "    \n",
    "rs2 = mcf_balance(pred_340)\n",
    "rs2"
   ]
  },
  {
   "cell_type": "code",
   "execution_count": 16,
   "metadata": {},
   "outputs": [],
   "source": [
    "opt_pred2 = word_encoder.classes_[rs2]"
   ]
  },
  {
   "cell_type": "code",
   "execution_count": 17,
   "metadata": {},
   "outputs": [
    {
     "data": {
      "text/plain": [
       "((112200,), (112200,))"
      ]
     },
     "execution_count": 17,
     "metadata": {},
     "output_type": "execute_result"
    }
   ],
   "source": [
    "opt_pred.shape, opt_pred2.shape"
   ]
  },
  {
   "cell_type": "code",
   "execution_count": 18,
   "metadata": {},
   "outputs": [
    {
     "name": "stdout",
     "output_type": "stream",
     "text": [
      "[['The_Eiffel_Tower' '330']\n",
      " ['The_Great_Wall_of_China' '330']\n",
      " ['The_Mona_Lisa' '330']]\n"
     ]
    }
   ],
   "source": [
    "unique, counts = np.unique(opt_pred, return_counts=True)\n",
    "\n",
    "print(np.asarray((unique, counts)).T[:3])"
   ]
  },
  {
   "cell_type": "code",
   "execution_count": 19,
   "metadata": {},
   "outputs": [],
   "source": [
    "top_3_pred = [word_encoder.classes_[np.argsort(-1*c_pred)[:3]] for c_pred in pred]"
   ]
  },
  {
   "cell_type": "code",
   "execution_count": 20,
   "metadata": {},
   "outputs": [
    {
     "data": {
      "text/plain": [
       "array(['stereo', 'bottlecap', 'castle', ..., 'bush', 'toilet', 'line'],\n",
       "      dtype='<U23')"
      ]
     },
     "execution_count": 20,
     "metadata": {},
     "output_type": "execute_result"
    }
   ],
   "source": [
    "opt_pred2"
   ]
  },
  {
   "cell_type": "code",
   "execution_count": 21,
   "metadata": {},
   "outputs": [
    {
     "name": "stdout",
     "output_type": "stream",
     "text": [
      "['mountain' 'tent' 'The_Eiffel_Tower'] => ['mountain', 'The_Eiffel_Tower', 'tent']\n",
      "['submarine' 'swan' 'lobster'] => ['submarine', 'key', 'swan']\n",
      "['bracelet' 'arm' 'hand'] => ['bracelet', 'hand', 'arm']\n",
      "['octopus' 'octagon' 'snowflake'] => ['octopus', 'snowflake', 'octagon']\n",
      "['stove' 'oven' 'cooler'] => ['stove', 'table', 'oven']\n",
      "['steak' 'stereo' 'skull'] => ['steak', 'skull', 'stereo']\n"
     ]
    }
   ],
   "source": [
    "final = []\n",
    "for o, o2, t3 in zip(opt_pred, opt_pred2, top_3_pred):\n",
    "    t2 = [c for c in t3 if (c != o) and (c != o2)]\n",
    "    f3 = [o, o2] + t2[:1]\n",
    "    final.append(f3)\n",
    "    \n",
    "c = 0\n",
    "for o3, t3 in zip(final, top_3_pred):\n",
    "    if not np.array_equal(o3,t3):\n",
    "        print(t3, \"=>\", o3)\n",
    "        c += 1\n",
    "        if c > 5: \n",
    "            break"
   ]
  },
  {
   "cell_type": "code",
   "execution_count": 22,
   "metadata": {},
   "outputs": [
    {
     "data": {
      "text/plain": [
       "112199"
      ]
     },
     "execution_count": 22,
     "metadata": {},
     "output_type": "execute_result"
    }
   ],
   "source": [
    "len(final)"
   ]
  },
  {
   "cell_type": "code",
   "execution_count": 23,
   "metadata": {},
   "outputs": [
    {
     "data": {
      "text/plain": [
       "['radio stereo binoculars',\n",
       " 'hockey_puck bottlecap pool',\n",
       " 'The_Great_Wall_of_China castle fence']"
      ]
     },
     "execution_count": 23,
     "metadata": {},
     "output_type": "execute_result"
    }
   ],
   "source": [
    "final_3_pred = [' '.join([col.replace(' ', '_') for col in row]) for row in final]\n",
    "final_3_pred[:3]"
   ]
  },
  {
   "cell_type": "code",
   "execution_count": 25,
   "metadata": {},
   "outputs": [],
   "source": [
    "test_path = os.path.join('./predict_numpy/test_simplified.csv')\n",
    "test_path\n",
    "sub_df = pd.read_csv(test_path)"
   ]
  },
  {
   "cell_type": "code",
   "execution_count": 26,
   "metadata": {},
   "outputs": [
    {
     "data": {
      "text/html": [
       "<div>\n",
       "<style scoped>\n",
       "    .dataframe tbody tr th:only-of-type {\n",
       "        vertical-align: middle;\n",
       "    }\n",
       "\n",
       "    .dataframe tbody tr th {\n",
       "        vertical-align: top;\n",
       "    }\n",
       "\n",
       "    .dataframe thead th {\n",
       "        text-align: right;\n",
       "    }\n",
       "</style>\n",
       "<table border=\"1\" class=\"dataframe\">\n",
       "  <thead>\n",
       "    <tr style=\"text-align: right;\">\n",
       "      <th></th>\n",
       "      <th>key_id</th>\n",
       "      <th>countrycode</th>\n",
       "      <th>drawing</th>\n",
       "      <th>word</th>\n",
       "    </tr>\n",
       "  </thead>\n",
       "  <tbody>\n",
       "    <tr>\n",
       "      <th>0</th>\n",
       "      <td>9000003627287624</td>\n",
       "      <td>DE</td>\n",
       "      <td>[[[17, 18, 20, 25, 137, 174, 242, 249, 251, 25...</td>\n",
       "      <td>radio stereo binoculars</td>\n",
       "    </tr>\n",
       "    <tr>\n",
       "      <th>1</th>\n",
       "      <td>9000010688666847</td>\n",
       "      <td>UA</td>\n",
       "      <td>[[[174, 145, 106, 38, 11, 4, 4, 15, 29, 78, 16...</td>\n",
       "      <td>hockey_puck bottlecap pool</td>\n",
       "    </tr>\n",
       "    <tr>\n",
       "      <th>2</th>\n",
       "      <td>9000023642890129</td>\n",
       "      <td>BG</td>\n",
       "      <td>[[[0, 12, 14, 17, 16, 24, 55, 57, 60, 79, 82, ...</td>\n",
       "      <td>The_Great_Wall_of_China castle fence</td>\n",
       "    </tr>\n",
       "  </tbody>\n",
       "</table>\n",
       "</div>"
      ],
      "text/plain": [
       "             key_id countrycode  \\\n",
       "0  9000003627287624          DE   \n",
       "1  9000010688666847          UA   \n",
       "2  9000023642890129          BG   \n",
       "\n",
       "                                             drawing  \\\n",
       "0  [[[17, 18, 20, 25, 137, 174, 242, 249, 251, 25...   \n",
       "1  [[[174, 145, 106, 38, 11, 4, 4, 15, 29, 78, 16...   \n",
       "2  [[[0, 12, 14, 17, 16, 24, 55, 57, 60, 79, 82, ...   \n",
       "\n",
       "                                   word  \n",
       "0               radio stereo binoculars  \n",
       "1            hockey_puck bottlecap pool  \n",
       "2  The_Great_Wall_of_China castle fence  "
      ]
     },
     "execution_count": 26,
     "metadata": {},
     "output_type": "execute_result"
    }
   ],
   "source": [
    "sub_df['word'] = final_3_pred\n",
    "sub_df[['key_id', 'word']].to_csv('submission_opt_top2.csv', index=False)\n",
    "sub_df.head(3)"
   ]
  },
  {
   "cell_type": "code",
   "execution_count": 27,
   "metadata": {},
   "outputs": [
    {
     "data": {
      "text/plain": [
       "(112199, 340)"
      ]
     },
     "execution_count": 27,
     "metadata": {},
     "output_type": "execute_result"
    }
   ],
   "source": [
    "pred.shape"
   ]
  },
  {
   "cell_type": "code",
   "execution_count": 28,
   "metadata": {},
   "outputs": [
    {
     "data": {
      "text/plain": [
       "array(['The_Eiffel_Tower', 'The_Great_Wall_of_China', 'The_Mona_Lisa'],\n",
       "      dtype='<U23')"
      ]
     },
     "execution_count": 28,
     "metadata": {},
     "output_type": "execute_result"
    }
   ],
   "source": [
    "word_encoder.classes_[:3]"
   ]
  },
  {
   "cell_type": "code",
   "execution_count": 29,
   "metadata": {},
   "outputs": [
    {
     "name": "stdout",
     "output_type": "stream",
     "text": [
      "(112199, 340)\n"
     ]
    },
    {
     "data": {
      "text/plain": [
       "LabelEncoder()"
      ]
     },
     "execution_count": 29,
     "metadata": {},
     "output_type": "execute_result"
    }
   ],
   "source": [
    "\n",
    "import pickle\n",
    "\n",
    "pickle.dump((pred, word_encoder), open(\"to_be_sent.pkl\", 'wb'))\n",
    "\n",
    "\n",
    "tmp_pred, tmp_word_encoder = pickle.load(open(\"to_be_sent.pkl\", 'rb'))\n",
    "print(tmp_pred.shape)\n",
    "tmp_word_encoder"
   ]
  },
  {
   "cell_type": "code",
   "execution_count": null,
   "metadata": {},
   "outputs": [],
   "source": []
  },
  {
   "cell_type": "code",
   "execution_count": null,
   "metadata": {},
   "outputs": [],
   "source": []
  }
 ],
 "metadata": {
  "kernelspec": {
   "display_name": "Python 3",
   "language": "python",
   "name": "python3"
  },
  "language_info": {
   "codemirror_mode": {
    "name": "ipython",
    "version": 3
   },
   "file_extension": ".py",
   "mimetype": "text/x-python",
   "name": "python",
   "nbconvert_exporter": "python",
   "pygments_lexer": "ipython3",
   "version": "3.6.6"
  }
 },
 "nbformat": 4,
 "nbformat_minor": 2
}
