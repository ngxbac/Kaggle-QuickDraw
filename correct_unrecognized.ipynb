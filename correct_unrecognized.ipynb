{
 "cells": [
  {
   "cell_type": "code",
   "execution_count": 1,
   "metadata": {},
   "outputs": [],
   "source": [
    "import pandas as pd\n",
    "import numpy as np\n",
    "import os           \n",
    "from tqdm import *\n",
    "tqdm.pandas()"
   ]
  },
  {
   "cell_type": "code",
   "execution_count": 2,
   "metadata": {},
   "outputs": [],
   "source": [
    "def softmax(X, theta = 1.0, axis = None):\n",
    "    \"\"\"\n",
    "    Compute the softmax of each element along an axis of X.\n",
    "\n",
    "    Parameters\n",
    "    ----------\n",
    "    X: ND-Array. Probably should be floats.\n",
    "    theta (optional): float parameter, used as a multiplier\n",
    "        prior to exponentiation. Default = 1.0\n",
    "    axis (optional): axis to compute values along. Default is the\n",
    "        first non-singleton axis.\n",
    "\n",
    "    Returns an array the same size as X. The result will sum to 1\n",
    "    along the specified axis.\n",
    "    \"\"\"\n",
    "\n",
    "    # make X at least 2d\n",
    "    y = np.atleast_2d(X)\n",
    "\n",
    "    # find axis\n",
    "    if axis is None:\n",
    "        axis = next(j[0] for j in enumerate(y.shape) if j[1] > 1)\n",
    "\n",
    "    # multiply y against the theta parameter,\n",
    "    y = y * float(theta)\n",
    "\n",
    "    # subtract the max for numerical stability\n",
    "    y = y - np.expand_dims(np.max(y, axis = axis), axis)\n",
    "\n",
    "    # exponentiate y\n",
    "    y = np.exp(y)\n",
    "\n",
    "    # take the sum along the specified axis\n",
    "    ax_sum = np.expand_dims(np.sum(y, axis = axis), axis)\n",
    "\n",
    "    # finally: divide elementwise\n",
    "    p = y / ax_sum\n",
    "\n",
    "    # flatten if X was 1D\n",
    "    if len(X.shape) == 1: p = p.flatten()\n",
    "\n",
    "    return p"
   ]
  },
  {
   "cell_type": "code",
   "execution_count": 3,
   "metadata": {},
   "outputs": [],
   "source": [
    "from sklearn.preprocessing import LabelEncoder\n",
    "\n",
    "\n",
    "CLASS_NAME=\\\n",
    "['The_Eiffel_Tower', 'The_Great_Wall_of_China', 'The_Mona_Lisa', 'airplane', 'alarm_clock', 'ambulance', 'angel',\n",
    " 'animal_migration', 'ant', 'anvil', 'apple', 'arm', 'asparagus', 'axe', 'backpack', 'banana', 'bandage', 'barn',\n",
    " 'baseball', 'baseball_bat', 'basket', 'basketball', 'bat', 'bathtub', 'beach', 'bear', 'beard', 'bed', 'bee',\n",
    " 'belt', 'bench', 'bicycle', 'binoculars', 'bird', 'birthday_cake', 'blackberry', 'blueberry', 'book',\n",
    " 'boomerang', 'bottlecap', 'bowtie', 'bracelet', 'brain', 'bread', 'bridge', 'broccoli', 'broom',\n",
    " 'bucket', 'bulldozer', 'bus', 'bush', 'butterfly', 'cactus', 'cake', 'calculator', 'calendar', 'camel',\n",
    " 'camera', 'camouflage', 'campfire', 'candle', 'cannon', 'canoe', 'car', 'carrot', 'castle', 'cat', 'ceiling_fan',\n",
    " 'cell_phone', 'cello', 'chair', 'chandelier', 'church', 'circle', 'clarinet', 'clock', 'cloud', 'coffee_cup',\n",
    " 'compass', 'computer', 'cookie', 'cooler', 'couch', 'cow', 'crab', 'crayon', 'crocodile', 'crown', 'cruise_ship',\n",
    " 'cup', 'diamond', 'dishwasher', 'diving_board', 'dog', 'dolphin', 'donut', 'door', 'dragon', 'dresser',\n",
    " 'drill', 'drums', 'duck', 'dumbbell', 'ear', 'elbow', 'elephant', 'envelope', 'eraser', 'eye', 'eyeglasses',\n",
    " 'face', 'fan', 'feather', 'fence', 'finger', 'fire_hydrant', 'fireplace', 'firetruck', 'fish', 'flamingo',\n",
    " 'flashlight', 'flip_flops', 'floor_lamp', 'flower', 'flying_saucer', 'foot', 'fork', 'frog', 'frying_pan',\n",
    " 'garden', 'garden_hose', 'giraffe', 'goatee', 'golf_club', 'grapes', 'grass', 'guitar', 'hamburger',\n",
    " 'hammer', 'hand', 'harp', 'hat', 'headphones', 'hedgehog', 'helicopter', 'helmet', 'hexagon', 'hockey_puck',\n",
    " 'hockey_stick', 'horse', 'hospital', 'hot_air_balloon', 'hot_dog', 'hot_tub', 'hourglass', 'house', 'house_plant',\n",
    " 'hurricane', 'ice_cream', 'jacket', 'jail', 'kangaroo', 'key', 'keyboard', 'knee', 'ladder', 'lantern', 'laptop',\n",
    " 'leaf', 'leg', 'light_bulb', 'lighthouse', 'lightning', 'line', 'lion', 'lipstick', 'lobster', 'lollipop', 'mailbox',\n",
    " 'map', 'marker', 'matches', 'megaphone', 'mermaid', 'microphone', 'microwave', 'monkey', 'moon', 'mosquito',\n",
    " 'motorbike', 'mountain', 'mouse', 'moustache', 'mouth', 'mug', 'mushroom', 'nail', 'necklace', 'nose', 'ocean',\n",
    " 'octagon', 'octopus', 'onion', 'oven', 'owl', 'paint_can', 'paintbrush', 'palm_tree', 'panda', 'pants',\n",
    " 'paper_clip', 'parachute', 'parrot', 'passport', 'peanut', 'pear', 'peas', 'pencil', 'penguin', 'piano',\n",
    " 'pickup_truck', 'picture_frame', 'pig', 'pillow', 'pineapple', 'pizza', 'pliers', 'police_car', 'pond',\n",
    " 'pool', 'popsicle', 'postcard', 'potato', 'power_outlet', 'purse', 'rabbit', 'raccoon', 'radio', 'rain',\n",
    " 'rainbow', 'rake', 'remote_control', 'rhinoceros', 'river', 'roller_coaster', 'rollerskates', 'sailboat',\n",
    " 'sandwich', 'saw', 'saxophone', 'school_bus', 'scissors', 'scorpion', 'screwdriver', 'sea_turtle', 'see_saw',\n",
    " 'shark', 'sheep', 'shoe', 'shorts', 'shovel', 'sink', 'skateboard', 'skull', 'skyscraper', 'sleeping_bag',\n",
    " 'smiley_face', 'snail', 'snake', 'snorkel', 'snowflake', 'snowman', 'soccer_ball', 'sock', 'speedboat',\n",
    " 'spider', 'spoon', 'spreadsheet', 'square', 'squiggle', 'squirrel', 'stairs', 'star', 'steak', 'stereo',\n",
    " 'stethoscope', 'stitches', 'stop_sign', 'stove', 'strawberry', 'streetlight', 'string_bean', 'submarine',\n",
    " 'suitcase', 'sun', 'swan', 'sweater', 'swing_set', 'sword', 't-shirt', 'table', 'teapot', 'teddy-bear',\n",
    " 'telephone', 'television', 'tennis_racquet', 'tent', 'tiger', 'toaster', 'toe', 'toilet', 'tooth',\n",
    " 'toothbrush', 'toothpaste', 'tornado', 'tractor', 'traffic_light', 'train', 'tree', 'triangle',\n",
    " 'trombone', 'truck', 'trumpet', 'umbrella', 'underwear', 'van', 'vase', 'violin', 'washing_machine',\n",
    " 'watermelon', 'waterslide', 'whale', 'wheel', 'windmill', 'wine_bottle', 'wine_glass', 'wristwatch',\n",
    " 'yoga', 'zebra', 'zigzag']\n",
    "\n",
    "lb = LabelEncoder()\n",
    "lb.fit(CLASS_NAME)\n",
    "\n",
    "all_cls = lb.classes_\n",
    "idx2cls = np.zeros(all_cls.shape, dtype=object)\n",
    "for i, cls in enumerate(all_cls):\n",
    "    idx2cls[i] = cls"
   ]
  },
  {
   "cell_type": "code",
   "execution_count": 4,
   "metadata": {},
   "outputs": [],
   "source": [
    "data_2_train = \"/media/ngxbac/Bac/competition/kaggle/competition_data/quickdraw/data/30k/data_2/train/\"\n",
    "data_2_valid = \"/media/ngxbac/Bac/competition/kaggle/competition_data/quickdraw/data/30k/data_2/valid/\""
   ]
  },
  {
   "cell_type": "code",
   "execution_count": 5,
   "metadata": {},
   "outputs": [],
   "source": [
    "train_predict = np.load(\"./logs/clean_model_1_resnet34/dataset.predictions.data_2_train.logits.satge1.5.npy\")\n",
    "# valid_predict = np.load(\"./logs/clean_model_1_resnet34/dataset.predictions.data_2_valid.logits.satge1.5.npy\")"
   ]
  },
  {
   "cell_type": "code",
   "execution_count": 6,
   "metadata": {},
   "outputs": [],
   "source": [
    "train_predict = softmax(train_predict, axis=1)"
   ]
  },
  {
   "cell_type": "code",
   "execution_count": null,
   "metadata": {},
   "outputs": [],
   "source": []
  },
  {
   "cell_type": "code",
   "execution_count": 7,
   "metadata": {},
   "outputs": [],
   "source": [
    "# all_class = os.listdir(data_2_train)\n",
    "dfs = []\n",
    "for cls in CLASS_NAME:\n",
    "    cls = cls.replace(\"_\", ' ')\n",
    "    df = pd.read_csv(os.path.join(data_2_train, cls + \".csv\"))\n",
    "    df[\"word\"] = cls.split(\".\")[0]\n",
    "    dfs.append(df)\n",
    "dfs = pd.concat(dfs, axis=0)"
   ]
  },
  {
   "cell_type": "code",
   "execution_count": 8,
   "metadata": {},
   "outputs": [
    {
     "data": {
      "text/html": [
       "<div>\n",
       "<style scoped>\n",
       "    .dataframe tbody tr th:only-of-type {\n",
       "        vertical-align: middle;\n",
       "    }\n",
       "\n",
       "    .dataframe tbody tr th {\n",
       "        vertical-align: top;\n",
       "    }\n",
       "\n",
       "    .dataframe thead th {\n",
       "        text-align: right;\n",
       "    }\n",
       "</style>\n",
       "<table border=\"1\" class=\"dataframe\">\n",
       "  <thead>\n",
       "    <tr style=\"text-align: right;\">\n",
       "      <th></th>\n",
       "      <th>countrycode</th>\n",
       "      <th>drawing</th>\n",
       "      <th>key_id</th>\n",
       "      <th>recognized</th>\n",
       "      <th>word</th>\n",
       "    </tr>\n",
       "  </thead>\n",
       "  <tbody>\n",
       "    <tr>\n",
       "      <th>0</th>\n",
       "      <td>US</td>\n",
       "      <td>[[[0, 27, 59, 70, 74, 83, 93, 99, 121, 151], [...</td>\n",
       "      <td>5594562984673280</td>\n",
       "      <td>True</td>\n",
       "      <td>The Eiffel Tower</td>\n",
       "    </tr>\n",
       "    <tr>\n",
       "      <th>1</th>\n",
       "      <td>US</td>\n",
       "      <td>[[[0, 18, 48, 73, 79, 77, 71, 99, 110, 132, 17...</td>\n",
       "      <td>5559551606652928</td>\n",
       "      <td>True</td>\n",
       "      <td>The Eiffel Tower</td>\n",
       "    </tr>\n",
       "    <tr>\n",
       "      <th>2</th>\n",
       "      <td>GB</td>\n",
       "      <td>[[[0, 7, 29, 56, 86, 107, 109, 106, 103, 122, ...</td>\n",
       "      <td>5310851772841984</td>\n",
       "      <td>True</td>\n",
       "      <td>The Eiffel Tower</td>\n",
       "    </tr>\n",
       "    <tr>\n",
       "      <th>3</th>\n",
       "      <td>US</td>\n",
       "      <td>[[[0, 51, 87, 117, 143, 153, 157, 154, 163, 17...</td>\n",
       "      <td>6680277264891904</td>\n",
       "      <td>True</td>\n",
       "      <td>The Eiffel Tower</td>\n",
       "    </tr>\n",
       "    <tr>\n",
       "      <th>4</th>\n",
       "      <td>QA</td>\n",
       "      <td>[[[169, 123, 91, 87, 75, 75, 81, 79, 54, 0, 21...</td>\n",
       "      <td>4801613069811712</td>\n",
       "      <td>True</td>\n",
       "      <td>The Eiffel Tower</td>\n",
       "    </tr>\n",
       "  </tbody>\n",
       "</table>\n",
       "</div>"
      ],
      "text/plain": [
       "  countrycode                                            drawing  \\\n",
       "0          US  [[[0, 27, 59, 70, 74, 83, 93, 99, 121, 151], [...   \n",
       "1          US  [[[0, 18, 48, 73, 79, 77, 71, 99, 110, 132, 17...   \n",
       "2          GB  [[[0, 7, 29, 56, 86, 107, 109, 106, 103, 122, ...   \n",
       "3          US  [[[0, 51, 87, 117, 143, 153, 157, 154, 163, 17...   \n",
       "4          QA  [[[169, 123, 91, 87, 75, 75, 81, 79, 54, 0, 21...   \n",
       "\n",
       "             key_id  recognized              word  \n",
       "0  5594562984673280        True  The Eiffel Tower  \n",
       "1  5559551606652928        True  The Eiffel Tower  \n",
       "2  5310851772841984        True  The Eiffel Tower  \n",
       "3  6680277264891904        True  The Eiffel Tower  \n",
       "4  4801613069811712        True  The Eiffel Tower  "
      ]
     },
     "execution_count": 8,
     "metadata": {},
     "output_type": "execute_result"
    }
   ],
   "source": [
    "dfs.head()"
   ]
  },
  {
   "cell_type": "code",
   "execution_count": 9,
   "metadata": {},
   "outputs": [],
   "source": [
    "pred = np.argmax(train_predict, axis=1)\n",
    "pred_cls = idx2cls[pred]\n",
    "# prob_cls = train_predict[0][pred]"
   ]
  },
  {
   "cell_type": "code",
   "execution_count": 10,
   "metadata": {},
   "outputs": [],
   "source": [
    "probs = []\n",
    "for i, predict_prob in enumerate(train_predict):\n",
    "    probs.append(predict_prob[pred[i]])"
   ]
  },
  {
   "cell_type": "code",
   "execution_count": 11,
   "metadata": {},
   "outputs": [],
   "source": [
    "dfs[\"predict_word\"] = pred_cls\n",
    "dfs[\"predict_word\"] = dfs[\"predict_word\"].apply(lambda x: x.replace(\"_\", \" \"))\n",
    "dfs[\"prob\"] = probs"
   ]
  },
  {
   "cell_type": "code",
   "execution_count": 12,
   "metadata": {},
   "outputs": [
    {
     "data": {
      "text/plain": [
       "14"
      ]
     },
     "execution_count": 12,
     "metadata": {},
     "output_type": "execute_result"
    }
   ],
   "source": [
    "del train_predict\n",
    "import gc\n",
    "gc.collect()"
   ]
  },
  {
   "cell_type": "code",
   "execution_count": 13,
   "metadata": {},
   "outputs": [],
   "source": [
    "threshold = 0.90\n",
    "def re_assign_label(row):\n",
    "    if row[\"recognized\"] == False and row[\"word\"] != row[\"predict_word\"] and row[\"prob\"] > threshold:\n",
    "        row[\"new_word\"] = row[\"predict_word\"]\n",
    "    else:\n",
    "        row[\"new_word\"] = row[\"word\"]\n",
    "    return row"
   ]
  },
  {
   "cell_type": "code",
   "execution_count": 14,
   "metadata": {},
   "outputs": [
    {
     "data": {
      "text/plain": [
       "0"
      ]
     },
     "execution_count": 14,
     "metadata": {},
     "output_type": "execute_result"
    }
   ],
   "source": [
    "recognized_df = dfs[dfs[\"recognized\"] == True]\n",
    "unrecognized_df = dfs[dfs[\"recognized\"] == False]\n",
    "del dfs\n",
    "gc.collect()"
   ]
  },
  {
   "cell_type": "code",
   "execution_count": 15,
   "metadata": {},
   "outputs": [
    {
     "name": "stderr",
     "output_type": "stream",
     "text": [
      "100%|██████████| 377596/377596 [03:53<00:00, 1615.13it/s]\n"
     ]
    }
   ],
   "source": [
    "clean_df = unrecognized_df.progress_apply(re_assign_label, axis=1)"
   ]
  },
  {
   "cell_type": "code",
   "execution_count": 16,
   "metadata": {},
   "outputs": [
    {
     "data": {
      "text/html": [
       "<div>\n",
       "<style scoped>\n",
       "    .dataframe tbody tr th:only-of-type {\n",
       "        vertical-align: middle;\n",
       "    }\n",
       "\n",
       "    .dataframe tbody tr th {\n",
       "        vertical-align: top;\n",
       "    }\n",
       "\n",
       "    .dataframe thead th {\n",
       "        text-align: right;\n",
       "    }\n",
       "</style>\n",
       "<table border=\"1\" class=\"dataframe\">\n",
       "  <thead>\n",
       "    <tr style=\"text-align: right;\">\n",
       "      <th></th>\n",
       "      <th>countrycode</th>\n",
       "      <th>drawing</th>\n",
       "      <th>key_id</th>\n",
       "      <th>recognized</th>\n",
       "      <th>word</th>\n",
       "      <th>predict_word</th>\n",
       "      <th>prob</th>\n",
       "      <th>new_word</th>\n",
       "    </tr>\n",
       "  </thead>\n",
       "  <tbody>\n",
       "    <tr>\n",
       "      <th>26</th>\n",
       "      <td>TH</td>\n",
       "      <td>[[[87, 86, 92, 87, 84, 87, 80, 63], [96, 93, 9...</td>\n",
       "      <td>5114298047135744</td>\n",
       "      <td>False</td>\n",
       "      <td>The Eiffel Tower</td>\n",
       "      <td>passport</td>\n",
       "      <td>0.231137</td>\n",
       "      <td>The Eiffel Tower</td>\n",
       "    </tr>\n",
       "    <tr>\n",
       "      <th>135</th>\n",
       "      <td>US</td>\n",
       "      <td>[[[2, 0, 3, 15, 104, 112, 129, 126, 128], [245...</td>\n",
       "      <td>4867259245789184</td>\n",
       "      <td>False</td>\n",
       "      <td>The Eiffel Tower</td>\n",
       "      <td>skyscraper</td>\n",
       "      <td>0.862774</td>\n",
       "      <td>The Eiffel Tower</td>\n",
       "    </tr>\n",
       "    <tr>\n",
       "      <th>221</th>\n",
       "      <td>US</td>\n",
       "      <td>[[[117, 133, 142, 126], [70, 73, 69, 39]], [[1...</td>\n",
       "      <td>4827162169311232</td>\n",
       "      <td>False</td>\n",
       "      <td>The Eiffel Tower</td>\n",
       "      <td>camouflage</td>\n",
       "      <td>0.079629</td>\n",
       "      <td>The Eiffel Tower</td>\n",
       "    </tr>\n",
       "    <tr>\n",
       "      <th>248</th>\n",
       "      <td>FI</td>\n",
       "      <td>[[[1, 2, 22, 27, 38, 46, 58, 65, 68, 54, 48, 5...</td>\n",
       "      <td>6616599626776576</td>\n",
       "      <td>False</td>\n",
       "      <td>The Eiffel Tower</td>\n",
       "      <td>The Eiffel Tower</td>\n",
       "      <td>0.609578</td>\n",
       "      <td>The Eiffel Tower</td>\n",
       "    </tr>\n",
       "    <tr>\n",
       "      <th>256</th>\n",
       "      <td>US</td>\n",
       "      <td>[[[6, 0, 3, 11, 47, 66, 60, 91, 171, 172, 181,...</td>\n",
       "      <td>5675405107265536</td>\n",
       "      <td>False</td>\n",
       "      <td>The Eiffel Tower</td>\n",
       "      <td>The Eiffel Tower</td>\n",
       "      <td>0.999657</td>\n",
       "      <td>The Eiffel Tower</td>\n",
       "    </tr>\n",
       "  </tbody>\n",
       "</table>\n",
       "</div>"
      ],
      "text/plain": [
       "    countrycode                                            drawing  \\\n",
       "26           TH  [[[87, 86, 92, 87, 84, 87, 80, 63], [96, 93, 9...   \n",
       "135          US  [[[2, 0, 3, 15, 104, 112, 129, 126, 128], [245...   \n",
       "221          US  [[[117, 133, 142, 126], [70, 73, 69, 39]], [[1...   \n",
       "248          FI  [[[1, 2, 22, 27, 38, 46, 58, 65, 68, 54, 48, 5...   \n",
       "256          US  [[[6, 0, 3, 11, 47, 66, 60, 91, 171, 172, 181,...   \n",
       "\n",
       "               key_id  recognized              word      predict_word  \\\n",
       "26   5114298047135744       False  The Eiffel Tower          passport   \n",
       "135  4867259245789184       False  The Eiffel Tower        skyscraper   \n",
       "221  4827162169311232       False  The Eiffel Tower        camouflage   \n",
       "248  6616599626776576       False  The Eiffel Tower  The Eiffel Tower   \n",
       "256  5675405107265536       False  The Eiffel Tower  The Eiffel Tower   \n",
       "\n",
       "         prob          new_word  \n",
       "26   0.231137  The Eiffel Tower  \n",
       "135  0.862774  The Eiffel Tower  \n",
       "221  0.079629  The Eiffel Tower  \n",
       "248  0.609578  The Eiffel Tower  \n",
       "256  0.999657  The Eiffel Tower  "
      ]
     },
     "execution_count": 16,
     "metadata": {},
     "output_type": "execute_result"
    }
   ],
   "source": [
    "clean_df.head()"
   ]
  },
  {
   "cell_type": "code",
   "execution_count": 17,
   "metadata": {},
   "outputs": [],
   "source": [
    "recognized_df[\"new_word\"] = recognized_df[\"word\"]"
   ]
  },
  {
   "cell_type": "code",
   "execution_count": 18,
   "metadata": {},
   "outputs": [],
   "source": [
    "clean_dfs = pd.concat([clean_df, recognized_df], axis=0)"
   ]
  },
  {
   "cell_type": "code",
   "execution_count": 19,
   "metadata": {},
   "outputs": [
    {
     "data": {
      "text/plain": [
       "0"
      ]
     },
     "execution_count": 19,
     "metadata": {},
     "output_type": "execute_result"
    }
   ],
   "source": [
    "del clean_df, recognized_df\n",
    "gc.collect()"
   ]
  },
  {
   "cell_type": "code",
   "execution_count": 20,
   "metadata": {},
   "outputs": [
    {
     "data": {
      "text/html": [
       "<div>\n",
       "<style scoped>\n",
       "    .dataframe tbody tr th:only-of-type {\n",
       "        vertical-align: middle;\n",
       "    }\n",
       "\n",
       "    .dataframe tbody tr th {\n",
       "        vertical-align: top;\n",
       "    }\n",
       "\n",
       "    .dataframe thead th {\n",
       "        text-align: right;\n",
       "    }\n",
       "</style>\n",
       "<table border=\"1\" class=\"dataframe\">\n",
       "  <thead>\n",
       "    <tr style=\"text-align: right;\">\n",
       "      <th></th>\n",
       "      <th>countrycode</th>\n",
       "      <th>drawing</th>\n",
       "      <th>key_id</th>\n",
       "      <th>recognized</th>\n",
       "      <th>word</th>\n",
       "      <th>predict_word</th>\n",
       "      <th>prob</th>\n",
       "      <th>new_word</th>\n",
       "    </tr>\n",
       "  </thead>\n",
       "  <tbody>\n",
       "    <tr>\n",
       "      <th>26</th>\n",
       "      <td>TH</td>\n",
       "      <td>[[[87, 86, 92, 87, 84, 87, 80, 63], [96, 93, 9...</td>\n",
       "      <td>5114298047135744</td>\n",
       "      <td>False</td>\n",
       "      <td>The Eiffel Tower</td>\n",
       "      <td>passport</td>\n",
       "      <td>0.231137</td>\n",
       "      <td>The Eiffel Tower</td>\n",
       "    </tr>\n",
       "    <tr>\n",
       "      <th>135</th>\n",
       "      <td>US</td>\n",
       "      <td>[[[2, 0, 3, 15, 104, 112, 129, 126, 128], [245...</td>\n",
       "      <td>4867259245789184</td>\n",
       "      <td>False</td>\n",
       "      <td>The Eiffel Tower</td>\n",
       "      <td>skyscraper</td>\n",
       "      <td>0.862774</td>\n",
       "      <td>The Eiffel Tower</td>\n",
       "    </tr>\n",
       "    <tr>\n",
       "      <th>221</th>\n",
       "      <td>US</td>\n",
       "      <td>[[[117, 133, 142, 126], [70, 73, 69, 39]], [[1...</td>\n",
       "      <td>4827162169311232</td>\n",
       "      <td>False</td>\n",
       "      <td>The Eiffel Tower</td>\n",
       "      <td>camouflage</td>\n",
       "      <td>0.079629</td>\n",
       "      <td>The Eiffel Tower</td>\n",
       "    </tr>\n",
       "    <tr>\n",
       "      <th>248</th>\n",
       "      <td>FI</td>\n",
       "      <td>[[[1, 2, 22, 27, 38, 46, 58, 65, 68, 54, 48, 5...</td>\n",
       "      <td>6616599626776576</td>\n",
       "      <td>False</td>\n",
       "      <td>The Eiffel Tower</td>\n",
       "      <td>The Eiffel Tower</td>\n",
       "      <td>0.609578</td>\n",
       "      <td>The Eiffel Tower</td>\n",
       "    </tr>\n",
       "    <tr>\n",
       "      <th>256</th>\n",
       "      <td>US</td>\n",
       "      <td>[[[6, 0, 3, 11, 47, 66, 60, 91, 171, 172, 181,...</td>\n",
       "      <td>5675405107265536</td>\n",
       "      <td>False</td>\n",
       "      <td>The Eiffel Tower</td>\n",
       "      <td>The Eiffel Tower</td>\n",
       "      <td>0.999657</td>\n",
       "      <td>The Eiffel Tower</td>\n",
       "    </tr>\n",
       "  </tbody>\n",
       "</table>\n",
       "</div>"
      ],
      "text/plain": [
       "    countrycode                                            drawing  \\\n",
       "26           TH  [[[87, 86, 92, 87, 84, 87, 80, 63], [96, 93, 9...   \n",
       "135          US  [[[2, 0, 3, 15, 104, 112, 129, 126, 128], [245...   \n",
       "221          US  [[[117, 133, 142, 126], [70, 73, 69, 39]], [[1...   \n",
       "248          FI  [[[1, 2, 22, 27, 38, 46, 58, 65, 68, 54, 48, 5...   \n",
       "256          US  [[[6, 0, 3, 11, 47, 66, 60, 91, 171, 172, 181,...   \n",
       "\n",
       "               key_id  recognized              word      predict_word  \\\n",
       "26   5114298047135744       False  The Eiffel Tower          passport   \n",
       "135  4867259245789184       False  The Eiffel Tower        skyscraper   \n",
       "221  4827162169311232       False  The Eiffel Tower        camouflage   \n",
       "248  6616599626776576       False  The Eiffel Tower  The Eiffel Tower   \n",
       "256  5675405107265536       False  The Eiffel Tower  The Eiffel Tower   \n",
       "\n",
       "         prob          new_word  \n",
       "26   0.231137  The Eiffel Tower  \n",
       "135  0.862774  The Eiffel Tower  \n",
       "221  0.079629  The Eiffel Tower  \n",
       "248  0.609578  The Eiffel Tower  \n",
       "256  0.999657  The Eiffel Tower  "
      ]
     },
     "execution_count": 20,
     "metadata": {},
     "output_type": "execute_result"
    }
   ],
   "source": [
    "clean_dfs.head()"
   ]
  },
  {
   "cell_type": "code",
   "execution_count": 21,
   "metadata": {},
   "outputs": [],
   "source": [
    "all_class = clean_dfs[\"new_word\"].unique()"
   ]
  },
  {
   "cell_type": "code",
   "execution_count": 22,
   "metadata": {},
   "outputs": [],
   "source": [
    "data_2_clean_train = \"/media/ngxbac/Bac/competition/kaggle/competition_data/quickdraw/data/30k/data_2_clean/train/\"\n",
    "os.makedirs(data_2_clean_train, exist_ok=True)"
   ]
  },
  {
   "cell_type": "code",
   "execution_count": 23,
   "metadata": {},
   "outputs": [
    {
     "name": "stderr",
     "output_type": "stream",
     "text": [
      "100%|██████████| 340/340 [02:07<00:00,  2.84it/s]\n"
     ]
    }
   ],
   "source": [
    "for cls in tqdm(all_class):\n",
    "    cls_df = clean_dfs[clean_dfs[\"new_word\"] == cls]\n",
    "    cls_df.to_csv(data_2_clean_train + cls + \".csv\", index=False)"
   ]
  },
  {
   "cell_type": "code",
   "execution_count": 24,
   "metadata": {},
   "outputs": [
    {
     "data": {
      "text/plain": [
       "0"
      ]
     },
     "execution_count": 24,
     "metadata": {},
     "output_type": "execute_result"
    }
   ],
   "source": [
    "del cls_df\n",
    "del clean_dfs\n",
    "gc.collect()"
   ]
  },
  {
   "cell_type": "code",
   "execution_count": null,
   "metadata": {},
   "outputs": [],
   "source": []
  },
  {
   "cell_type": "code",
   "execution_count": null,
   "metadata": {},
   "outputs": [],
   "source": []
  },
  {
   "cell_type": "code",
   "execution_count": 25,
   "metadata": {},
   "outputs": [],
   "source": [
    "data_2_train = \"/media/ngxbac/Bac/competition/kaggle/competition_data/quickdraw/data/30k/data_2/train/\"\n",
    "data_2_valid = \"/media/ngxbac/Bac/competition/kaggle/competition_data/quickdraw/data/30k/data_2/valid/\""
   ]
  },
  {
   "cell_type": "code",
   "execution_count": 26,
   "metadata": {},
   "outputs": [],
   "source": [
    "# train_predict = np.load(\"./logs/clean_model_1_resnet34/dataset.predictions.data_2_train.logits.satge1.5.npy\")\n",
    "valid_predict = np.load(\"./logs/clean_model_1_resnet34/dataset.predictions.data_2_valid.logits.satge1.5.npy\")"
   ]
  },
  {
   "cell_type": "code",
   "execution_count": 27,
   "metadata": {},
   "outputs": [],
   "source": [
    "valid_predict = softmax(valid_predict, axis=1)"
   ]
  },
  {
   "cell_type": "code",
   "execution_count": null,
   "metadata": {},
   "outputs": [],
   "source": []
  },
  {
   "cell_type": "code",
   "execution_count": 28,
   "metadata": {},
   "outputs": [],
   "source": [
    "# all_class = os.listdir(data_2_train)\n",
    "dfs = []\n",
    "for cls in CLASS_NAME:\n",
    "    cls = cls.replace(\"_\", ' ')\n",
    "    df = pd.read_csv(os.path.join(data_2_valid, cls + \".csv\"))\n",
    "    df[\"word\"] = cls.split(\".\")[0]\n",
    "    dfs.append(df)\n",
    "dfs = pd.concat(dfs, axis=0)"
   ]
  },
  {
   "cell_type": "code",
   "execution_count": 29,
   "metadata": {},
   "outputs": [
    {
     "data": {
      "text/html": [
       "<div>\n",
       "<style scoped>\n",
       "    .dataframe tbody tr th:only-of-type {\n",
       "        vertical-align: middle;\n",
       "    }\n",
       "\n",
       "    .dataframe tbody tr th {\n",
       "        vertical-align: top;\n",
       "    }\n",
       "\n",
       "    .dataframe thead th {\n",
       "        text-align: right;\n",
       "    }\n",
       "</style>\n",
       "<table border=\"1\" class=\"dataframe\">\n",
       "  <thead>\n",
       "    <tr style=\"text-align: right;\">\n",
       "      <th></th>\n",
       "      <th>countrycode</th>\n",
       "      <th>drawing</th>\n",
       "      <th>key_id</th>\n",
       "      <th>recognized</th>\n",
       "      <th>word</th>\n",
       "    </tr>\n",
       "  </thead>\n",
       "  <tbody>\n",
       "    <tr>\n",
       "      <th>0</th>\n",
       "      <td>US</td>\n",
       "      <td>[[[0, 6, 17, 60, 62, 54, 52, 71, 73, 73], [246...</td>\n",
       "      <td>6396323441934336</td>\n",
       "      <td>True</td>\n",
       "      <td>The Eiffel Tower</td>\n",
       "    </tr>\n",
       "    <tr>\n",
       "      <th>1</th>\n",
       "      <td>US</td>\n",
       "      <td>[[[0, 32, 2], [227, 230, 228]], [[17, 69, 69, ...</td>\n",
       "      <td>4765333883715584</td>\n",
       "      <td>True</td>\n",
       "      <td>The Eiffel Tower</td>\n",
       "    </tr>\n",
       "    <tr>\n",
       "      <th>2</th>\n",
       "      <td>US</td>\n",
       "      <td>[[[202, 191, 165, 146, 133, 103, 95, 90], [253...</td>\n",
       "      <td>6154169775816704</td>\n",
       "      <td>True</td>\n",
       "      <td>The Eiffel Tower</td>\n",
       "    </tr>\n",
       "    <tr>\n",
       "      <th>3</th>\n",
       "      <td>CA</td>\n",
       "      <td>[[[13, 24, 12, 3, 0], [1, 197, 243, 255, 243]]...</td>\n",
       "      <td>6336834588114944</td>\n",
       "      <td>True</td>\n",
       "      <td>The Eiffel Tower</td>\n",
       "    </tr>\n",
       "    <tr>\n",
       "      <th>4</th>\n",
       "      <td>RU</td>\n",
       "      <td>[[[1, 4, 15, 73, 114, 124, 140, 129, 91, 70, 5...</td>\n",
       "      <td>5500606401740800</td>\n",
       "      <td>True</td>\n",
       "      <td>The Eiffel Tower</td>\n",
       "    </tr>\n",
       "  </tbody>\n",
       "</table>\n",
       "</div>"
      ],
      "text/plain": [
       "  countrycode                                            drawing  \\\n",
       "0          US  [[[0, 6, 17, 60, 62, 54, 52, 71, 73, 73], [246...   \n",
       "1          US  [[[0, 32, 2], [227, 230, 228]], [[17, 69, 69, ...   \n",
       "2          US  [[[202, 191, 165, 146, 133, 103, 95, 90], [253...   \n",
       "3          CA  [[[13, 24, 12, 3, 0], [1, 197, 243, 255, 243]]...   \n",
       "4          RU  [[[1, 4, 15, 73, 114, 124, 140, 129, 91, 70, 5...   \n",
       "\n",
       "             key_id  recognized              word  \n",
       "0  6396323441934336        True  The Eiffel Tower  \n",
       "1  4765333883715584        True  The Eiffel Tower  \n",
       "2  6154169775816704        True  The Eiffel Tower  \n",
       "3  6336834588114944        True  The Eiffel Tower  \n",
       "4  5500606401740800        True  The Eiffel Tower  "
      ]
     },
     "execution_count": 29,
     "metadata": {},
     "output_type": "execute_result"
    }
   ],
   "source": [
    "dfs.head()"
   ]
  },
  {
   "cell_type": "code",
   "execution_count": 30,
   "metadata": {},
   "outputs": [],
   "source": [
    "pred = np.argmax(valid_predict, axis=1)\n",
    "pred_cls = idx2cls[pred]\n",
    "# prob_cls = train_predict[0][pred]"
   ]
  },
  {
   "cell_type": "code",
   "execution_count": 31,
   "metadata": {},
   "outputs": [],
   "source": [
    "probs = []\n",
    "for i, predict_prob in enumerate(valid_predict):\n",
    "    probs.append(predict_prob[pred[i]])"
   ]
  },
  {
   "cell_type": "code",
   "execution_count": 32,
   "metadata": {},
   "outputs": [],
   "source": [
    "dfs[\"predict_word\"] = pred_cls\n",
    "dfs[\"predict_word\"] = dfs[\"predict_word\"].apply(lambda x: x.replace(\"_\", \" \"))\n",
    "dfs[\"prob\"] = probs"
   ]
  },
  {
   "cell_type": "code",
   "execution_count": 33,
   "metadata": {},
   "outputs": [
    {
     "data": {
      "text/plain": [
       "7"
      ]
     },
     "execution_count": 33,
     "metadata": {},
     "output_type": "execute_result"
    }
   ],
   "source": [
    "del valid_predict\n",
    "import gc\n",
    "gc.collect()"
   ]
  },
  {
   "cell_type": "code",
   "execution_count": 34,
   "metadata": {},
   "outputs": [],
   "source": [
    "threshold = 0.90\n",
    "def re_assign_label(row):\n",
    "    if row[\"recognized\"] == False and row[\"word\"] != row[\"predict_word\"] and row[\"prob\"] > threshold:\n",
    "        row[\"new_word\"] = row[\"predict_word\"]\n",
    "    else:\n",
    "        row[\"new_word\"] = row[\"word\"]\n",
    "    return row"
   ]
  },
  {
   "cell_type": "code",
   "execution_count": 35,
   "metadata": {},
   "outputs": [
    {
     "data": {
      "text/plain": [
       "7"
      ]
     },
     "execution_count": 35,
     "metadata": {},
     "output_type": "execute_result"
    }
   ],
   "source": [
    "recognized_df = dfs[dfs[\"recognized\"] == True]\n",
    "unrecognized_df = dfs[dfs[\"recognized\"] == False]\n",
    "del dfs\n",
    "gc.collect()"
   ]
  },
  {
   "cell_type": "code",
   "execution_count": 36,
   "metadata": {},
   "outputs": [
    {
     "name": "stderr",
     "output_type": "stream",
     "text": [
      "100%|██████████| 42215/42215 [00:26<00:00, 1622.57it/s]\n"
     ]
    }
   ],
   "source": [
    "clean_df = unrecognized_df.progress_apply(re_assign_label, axis=1)"
   ]
  },
  {
   "cell_type": "code",
   "execution_count": 37,
   "metadata": {},
   "outputs": [
    {
     "data": {
      "text/html": [
       "<div>\n",
       "<style scoped>\n",
       "    .dataframe tbody tr th:only-of-type {\n",
       "        vertical-align: middle;\n",
       "    }\n",
       "\n",
       "    .dataframe tbody tr th {\n",
       "        vertical-align: top;\n",
       "    }\n",
       "\n",
       "    .dataframe thead th {\n",
       "        text-align: right;\n",
       "    }\n",
       "</style>\n",
       "<table border=\"1\" class=\"dataframe\">\n",
       "  <thead>\n",
       "    <tr style=\"text-align: right;\">\n",
       "      <th></th>\n",
       "      <th>countrycode</th>\n",
       "      <th>drawing</th>\n",
       "      <th>key_id</th>\n",
       "      <th>recognized</th>\n",
       "      <th>word</th>\n",
       "      <th>predict_word</th>\n",
       "      <th>prob</th>\n",
       "      <th>new_word</th>\n",
       "    </tr>\n",
       "  </thead>\n",
       "  <tbody>\n",
       "    <tr>\n",
       "      <th>168</th>\n",
       "      <td>US</td>\n",
       "      <td>[[[29, 27, 12, 0, 36, 59, 75, 88, 114, 118, 11...</td>\n",
       "      <td>6456669942841344</td>\n",
       "      <td>False</td>\n",
       "      <td>The Eiffel Tower</td>\n",
       "      <td>The Eiffel Tower</td>\n",
       "      <td>0.999952</td>\n",
       "      <td>The Eiffel Tower</td>\n",
       "    </tr>\n",
       "    <tr>\n",
       "      <th>187</th>\n",
       "      <td>BR</td>\n",
       "      <td>[[[30, 29, 31, 37], [66, 225, 232, 229]], [[14...</td>\n",
       "      <td>4868656318119936</td>\n",
       "      <td>False</td>\n",
       "      <td>The Eiffel Tower</td>\n",
       "      <td>tree</td>\n",
       "      <td>0.230682</td>\n",
       "      <td>The Eiffel Tower</td>\n",
       "    </tr>\n",
       "    <tr>\n",
       "      <th>198</th>\n",
       "      <td>US</td>\n",
       "      <td>[[[0, 28, 59, 84], [229, 157, 110, 53]], [[75,...</td>\n",
       "      <td>6341731920379904</td>\n",
       "      <td>False</td>\n",
       "      <td>The Eiffel Tower</td>\n",
       "      <td>remote control</td>\n",
       "      <td>0.481222</td>\n",
       "      <td>The Eiffel Tower</td>\n",
       "    </tr>\n",
       "    <tr>\n",
       "      <th>231</th>\n",
       "      <td>GB</td>\n",
       "      <td>[[[72, 80, 134, 177, 221], [128, 101, 0, 93, 1...</td>\n",
       "      <td>5225712921346048</td>\n",
       "      <td>False</td>\n",
       "      <td>The Eiffel Tower</td>\n",
       "      <td>triangle</td>\n",
       "      <td>0.445684</td>\n",
       "      <td>The Eiffel Tower</td>\n",
       "    </tr>\n",
       "    <tr>\n",
       "      <th>270</th>\n",
       "      <td>US</td>\n",
       "      <td>[[[111, 116, 143, 155, 153, 156, 124, 116, 107...</td>\n",
       "      <td>4960697769263104</td>\n",
       "      <td>False</td>\n",
       "      <td>The Eiffel Tower</td>\n",
       "      <td>The Eiffel Tower</td>\n",
       "      <td>0.970289</td>\n",
       "      <td>The Eiffel Tower</td>\n",
       "    </tr>\n",
       "  </tbody>\n",
       "</table>\n",
       "</div>"
      ],
      "text/plain": [
       "    countrycode                                            drawing  \\\n",
       "168          US  [[[29, 27, 12, 0, 36, 59, 75, 88, 114, 118, 11...   \n",
       "187          BR  [[[30, 29, 31, 37], [66, 225, 232, 229]], [[14...   \n",
       "198          US  [[[0, 28, 59, 84], [229, 157, 110, 53]], [[75,...   \n",
       "231          GB  [[[72, 80, 134, 177, 221], [128, 101, 0, 93, 1...   \n",
       "270          US  [[[111, 116, 143, 155, 153, 156, 124, 116, 107...   \n",
       "\n",
       "               key_id  recognized              word      predict_word  \\\n",
       "168  6456669942841344       False  The Eiffel Tower  The Eiffel Tower   \n",
       "187  4868656318119936       False  The Eiffel Tower              tree   \n",
       "198  6341731920379904       False  The Eiffel Tower    remote control   \n",
       "231  5225712921346048       False  The Eiffel Tower          triangle   \n",
       "270  4960697769263104       False  The Eiffel Tower  The Eiffel Tower   \n",
       "\n",
       "         prob          new_word  \n",
       "168  0.999952  The Eiffel Tower  \n",
       "187  0.230682  The Eiffel Tower  \n",
       "198  0.481222  The Eiffel Tower  \n",
       "231  0.445684  The Eiffel Tower  \n",
       "270  0.970289  The Eiffel Tower  "
      ]
     },
     "execution_count": 37,
     "metadata": {},
     "output_type": "execute_result"
    }
   ],
   "source": [
    "clean_df.head()"
   ]
  },
  {
   "cell_type": "code",
   "execution_count": 38,
   "metadata": {},
   "outputs": [],
   "source": [
    "recognized_df[\"new_word\"] = recognized_df[\"word\"]"
   ]
  },
  {
   "cell_type": "code",
   "execution_count": 39,
   "metadata": {},
   "outputs": [],
   "source": [
    "clean_dfs = pd.concat([clean_df, recognized_df], axis=0)"
   ]
  },
  {
   "cell_type": "code",
   "execution_count": 40,
   "metadata": {},
   "outputs": [
    {
     "data": {
      "text/plain": [
       "0"
      ]
     },
     "execution_count": 40,
     "metadata": {},
     "output_type": "execute_result"
    }
   ],
   "source": [
    "del clean_df, recognized_df\n",
    "gc.collect()"
   ]
  },
  {
   "cell_type": "code",
   "execution_count": 41,
   "metadata": {},
   "outputs": [
    {
     "data": {
      "text/html": [
       "<div>\n",
       "<style scoped>\n",
       "    .dataframe tbody tr th:only-of-type {\n",
       "        vertical-align: middle;\n",
       "    }\n",
       "\n",
       "    .dataframe tbody tr th {\n",
       "        vertical-align: top;\n",
       "    }\n",
       "\n",
       "    .dataframe thead th {\n",
       "        text-align: right;\n",
       "    }\n",
       "</style>\n",
       "<table border=\"1\" class=\"dataframe\">\n",
       "  <thead>\n",
       "    <tr style=\"text-align: right;\">\n",
       "      <th></th>\n",
       "      <th>countrycode</th>\n",
       "      <th>drawing</th>\n",
       "      <th>key_id</th>\n",
       "      <th>recognized</th>\n",
       "      <th>word</th>\n",
       "      <th>predict_word</th>\n",
       "      <th>prob</th>\n",
       "      <th>new_word</th>\n",
       "    </tr>\n",
       "  </thead>\n",
       "  <tbody>\n",
       "    <tr>\n",
       "      <th>168</th>\n",
       "      <td>US</td>\n",
       "      <td>[[[29, 27, 12, 0, 36, 59, 75, 88, 114, 118, 11...</td>\n",
       "      <td>6456669942841344</td>\n",
       "      <td>False</td>\n",
       "      <td>The Eiffel Tower</td>\n",
       "      <td>The Eiffel Tower</td>\n",
       "      <td>0.999952</td>\n",
       "      <td>The Eiffel Tower</td>\n",
       "    </tr>\n",
       "    <tr>\n",
       "      <th>187</th>\n",
       "      <td>BR</td>\n",
       "      <td>[[[30, 29, 31, 37], [66, 225, 232, 229]], [[14...</td>\n",
       "      <td>4868656318119936</td>\n",
       "      <td>False</td>\n",
       "      <td>The Eiffel Tower</td>\n",
       "      <td>tree</td>\n",
       "      <td>0.230682</td>\n",
       "      <td>The Eiffel Tower</td>\n",
       "    </tr>\n",
       "    <tr>\n",
       "      <th>198</th>\n",
       "      <td>US</td>\n",
       "      <td>[[[0, 28, 59, 84], [229, 157, 110, 53]], [[75,...</td>\n",
       "      <td>6341731920379904</td>\n",
       "      <td>False</td>\n",
       "      <td>The Eiffel Tower</td>\n",
       "      <td>remote control</td>\n",
       "      <td>0.481222</td>\n",
       "      <td>The Eiffel Tower</td>\n",
       "    </tr>\n",
       "    <tr>\n",
       "      <th>231</th>\n",
       "      <td>GB</td>\n",
       "      <td>[[[72, 80, 134, 177, 221], [128, 101, 0, 93, 1...</td>\n",
       "      <td>5225712921346048</td>\n",
       "      <td>False</td>\n",
       "      <td>The Eiffel Tower</td>\n",
       "      <td>triangle</td>\n",
       "      <td>0.445684</td>\n",
       "      <td>The Eiffel Tower</td>\n",
       "    </tr>\n",
       "    <tr>\n",
       "      <th>270</th>\n",
       "      <td>US</td>\n",
       "      <td>[[[111, 116, 143, 155, 153, 156, 124, 116, 107...</td>\n",
       "      <td>4960697769263104</td>\n",
       "      <td>False</td>\n",
       "      <td>The Eiffel Tower</td>\n",
       "      <td>The Eiffel Tower</td>\n",
       "      <td>0.970289</td>\n",
       "      <td>The Eiffel Tower</td>\n",
       "    </tr>\n",
       "  </tbody>\n",
       "</table>\n",
       "</div>"
      ],
      "text/plain": [
       "    countrycode                                            drawing  \\\n",
       "168          US  [[[29, 27, 12, 0, 36, 59, 75, 88, 114, 118, 11...   \n",
       "187          BR  [[[30, 29, 31, 37], [66, 225, 232, 229]], [[14...   \n",
       "198          US  [[[0, 28, 59, 84], [229, 157, 110, 53]], [[75,...   \n",
       "231          GB  [[[72, 80, 134, 177, 221], [128, 101, 0, 93, 1...   \n",
       "270          US  [[[111, 116, 143, 155, 153, 156, 124, 116, 107...   \n",
       "\n",
       "               key_id  recognized              word      predict_word  \\\n",
       "168  6456669942841344       False  The Eiffel Tower  The Eiffel Tower   \n",
       "187  4868656318119936       False  The Eiffel Tower              tree   \n",
       "198  6341731920379904       False  The Eiffel Tower    remote control   \n",
       "231  5225712921346048       False  The Eiffel Tower          triangle   \n",
       "270  4960697769263104       False  The Eiffel Tower  The Eiffel Tower   \n",
       "\n",
       "         prob          new_word  \n",
       "168  0.999952  The Eiffel Tower  \n",
       "187  0.230682  The Eiffel Tower  \n",
       "198  0.481222  The Eiffel Tower  \n",
       "231  0.445684  The Eiffel Tower  \n",
       "270  0.970289  The Eiffel Tower  "
      ]
     },
     "execution_count": 41,
     "metadata": {},
     "output_type": "execute_result"
    }
   ],
   "source": [
    "clean_dfs.head()"
   ]
  },
  {
   "cell_type": "code",
   "execution_count": 42,
   "metadata": {},
   "outputs": [],
   "source": [
    "all_class = clean_dfs[\"new_word\"].unique()"
   ]
  },
  {
   "cell_type": "code",
   "execution_count": 43,
   "metadata": {},
   "outputs": [],
   "source": [
    "data_2_clean_valid = \"/media/ngxbac/Bac/competition/kaggle/competition_data/quickdraw/data/30k/data_2_clean/valid/\"\n",
    "os.makedirs(data_2_clean_valid, exist_ok=True)"
   ]
  },
  {
   "cell_type": "code",
   "execution_count": 44,
   "metadata": {},
   "outputs": [
    {
     "name": "stderr",
     "output_type": "stream",
     "text": [
      "100%|██████████| 340/340 [00:15<00:00, 22.56it/s]\n"
     ]
    }
   ],
   "source": [
    "for cls in tqdm(all_class):\n",
    "    cls_df = clean_dfs[clean_dfs[\"new_word\"] == cls]\n",
    "    cls_df.to_csv(data_2_clean_valid + cls + \".csv\", index=False)"
   ]
  },
  {
   "cell_type": "code",
   "execution_count": 45,
   "metadata": {},
   "outputs": [
    {
     "data": {
      "text/html": [
       "<div>\n",
       "<style scoped>\n",
       "    .dataframe tbody tr th:only-of-type {\n",
       "        vertical-align: middle;\n",
       "    }\n",
       "\n",
       "    .dataframe tbody tr th {\n",
       "        vertical-align: top;\n",
       "    }\n",
       "\n",
       "    .dataframe thead th {\n",
       "        text-align: right;\n",
       "    }\n",
       "</style>\n",
       "<table border=\"1\" class=\"dataframe\">\n",
       "  <thead>\n",
       "    <tr style=\"text-align: right;\">\n",
       "      <th></th>\n",
       "      <th>countrycode</th>\n",
       "      <th>drawing</th>\n",
       "      <th>key_id</th>\n",
       "      <th>recognized</th>\n",
       "      <th>word</th>\n",
       "      <th>predict_word</th>\n",
       "      <th>prob</th>\n",
       "      <th>new_word</th>\n",
       "    </tr>\n",
       "  </thead>\n",
       "  <tbody>\n",
       "    <tr>\n",
       "      <th>297</th>\n",
       "      <td>US</td>\n",
       "      <td>[[[12, 12], [241, 241]], [[3, 7, 26, 46, 54], ...</td>\n",
       "      <td>5531471441821696</td>\n",
       "      <td>False</td>\n",
       "      <td>The Eiffel Tower</td>\n",
       "      <td>crayon</td>\n",
       "      <td>0.901299</td>\n",
       "      <td>crayon</td>\n",
       "    </tr>\n",
       "    <tr>\n",
       "      <th>321</th>\n",
       "      <td>US</td>\n",
       "      <td>[[[0, 15, 45, 80, 100, 107, 115, 151, 187, 201...</td>\n",
       "      <td>6585399507943424</td>\n",
       "      <td>False</td>\n",
       "      <td>The Eiffel Tower</td>\n",
       "      <td>roller coaster</td>\n",
       "      <td>0.989047</td>\n",
       "      <td>roller coaster</td>\n",
       "    </tr>\n",
       "    <tr>\n",
       "      <th>930</th>\n",
       "      <td>IQ</td>\n",
       "      <td>[[[3, 42, 46, 51, 79, 81, 84, 105, 106, 109, 1...</td>\n",
       "      <td>6070255761752064</td>\n",
       "      <td>False</td>\n",
       "      <td>The Eiffel Tower</td>\n",
       "      <td>castle</td>\n",
       "      <td>0.987388</td>\n",
       "      <td>castle</td>\n",
       "    </tr>\n",
       "    <tr>\n",
       "      <th>133</th>\n",
       "      <td>US</td>\n",
       "      <td>[[[14, 21, 20, 113, 252, 255, 249, 142, 105, 5...</td>\n",
       "      <td>5748407941464064</td>\n",
       "      <td>False</td>\n",
       "      <td>The Great Wall of China</td>\n",
       "      <td>envelope</td>\n",
       "      <td>0.958819</td>\n",
       "      <td>envelope</td>\n",
       "    </tr>\n",
       "    <tr>\n",
       "      <th>566</th>\n",
       "      <td>US</td>\n",
       "      <td>[[[4, 249, 253, 253, 1, 3], [4, 2, 11, 73, 71,...</td>\n",
       "      <td>4893926362185728</td>\n",
       "      <td>False</td>\n",
       "      <td>The Great Wall of China</td>\n",
       "      <td>keyboard</td>\n",
       "      <td>0.916405</td>\n",
       "      <td>keyboard</td>\n",
       "    </tr>\n",
       "  </tbody>\n",
       "</table>\n",
       "</div>"
      ],
      "text/plain": [
       "    countrycode                                            drawing  \\\n",
       "297          US  [[[12, 12], [241, 241]], [[3, 7, 26, 46, 54], ...   \n",
       "321          US  [[[0, 15, 45, 80, 100, 107, 115, 151, 187, 201...   \n",
       "930          IQ  [[[3, 42, 46, 51, 79, 81, 84, 105, 106, 109, 1...   \n",
       "133          US  [[[14, 21, 20, 113, 252, 255, 249, 142, 105, 5...   \n",
       "566          US  [[[4, 249, 253, 253, 1, 3], [4, 2, 11, 73, 71,...   \n",
       "\n",
       "               key_id  recognized                     word    predict_word  \\\n",
       "297  5531471441821696       False         The Eiffel Tower          crayon   \n",
       "321  6585399507943424       False         The Eiffel Tower  roller coaster   \n",
       "930  6070255761752064       False         The Eiffel Tower          castle   \n",
       "133  5748407941464064       False  The Great Wall of China        envelope   \n",
       "566  4893926362185728       False  The Great Wall of China        keyboard   \n",
       "\n",
       "         prob        new_word  \n",
       "297  0.901299          crayon  \n",
       "321  0.989047  roller coaster  \n",
       "930  0.987388          castle  \n",
       "133  0.958819        envelope  \n",
       "566  0.916405        keyboard  "
      ]
     },
     "execution_count": 45,
     "metadata": {},
     "output_type": "execute_result"
    }
   ],
   "source": [
    "clean_dfs[clean_dfs[\"word\"] != clean_dfs[\"new_word\"]].head()"
   ]
  },
  {
   "cell_type": "code",
   "execution_count": null,
   "metadata": {},
   "outputs": [],
   "source": []
  },
  {
   "cell_type": "code",
   "execution_count": null,
   "metadata": {},
   "outputs": [],
   "source": []
  },
  {
   "cell_type": "code",
   "execution_count": null,
   "metadata": {},
   "outputs": [],
   "source": []
  }
 ],
 "metadata": {
  "kernelspec": {
   "display_name": "Python 3",
   "language": "python",
   "name": "python3"
  },
  "language_info": {
   "codemirror_mode": {
    "name": "ipython",
    "version": 3
   },
   "file_extension": ".py",
   "mimetype": "text/x-python",
   "name": "python",
   "nbconvert_exporter": "python",
   "pygments_lexer": "ipython3",
   "version": "3.6.6"
  }
 },
 "nbformat": 4,
 "nbformat_minor": 2
}
